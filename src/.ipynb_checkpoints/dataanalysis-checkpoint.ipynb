{
 "cells": [
  {
   "cell_type": "markdown",
   "metadata": {
    "collapsed": true,
    "deletable": true,
    "editable": true
   },
   "source": [
    "# Pandas and Numpy"
   ]
  },
  {
   "cell_type": "markdown",
   "metadata": {
    "deletable": true,
    "editable": true
   },
   "source": [
    "## Reading a CSV\n",
    "In pandas reading a CSV is a simple operation. Once read, there are a lot of convenient methods you can call on the returned Pandas DataFrame object"
   ]
  },
  {
   "cell_type": "code",
   "execution_count": 2,
   "metadata": {
    "collapsed": true,
    "deletable": true,
    "editable": true
   },
   "outputs": [],
   "source": [
    "import pandas as pd\n",
    "import numpy as np"
   ]
  },
  {
   "cell_type": "code",
   "execution_count": 3,
   "metadata": {
    "collapsed": false,
    "deletable": true,
    "editable": true
   },
   "outputs": [
    {
     "data": {
      "text/plain": [
       "1237"
      ]
     },
     "execution_count": 2,
     "metadata": {},
     "output_type": "execute_result"
    }
   ],
   "source": [
    "daily_engagement = pd.read_csv('resources/daily_engagement.csv')\n",
    "\n",
    "# View the read in values for the first 10 rows\n",
    "daily_engagement.head(10)\n",
    "\n",
    "# Get the values in the acct column\n",
    "daily_engagement['acct']\n",
    "\n",
    "# Get the number of unique values of acct\n",
    "len(daily_engagement['acct'].unique())"
   ]
  },
  {
   "cell_type": "markdown",
   "metadata": {
    "deletable": true,
    "editable": true
   },
   "source": [
    "# Pandas and Numpy\n",
    "Numpy stands for Numerical Python.\n",
    "\n",
    "Both, Pandas and Numpy have data structures used to represent one dimensional data. In Pandas this is called a `Series`, whereas in Numpy this is an `Array`. Pandas `Series` are built on top of Numpy `Arrays` and have more features than the Numpy `Arrays`, however the Numpy `Array` is simpler.\n",
    "\n",
    "## Numpy Array\n",
    "A Numpy Array is similar to a python list, in that it contains a sequence of elements. The following are the similarities and differences\n",
    "\n",
    "#### Similarities\n",
    " * Elements are accessed by position (indexed at 0) eg. numarr[0]\n",
    " * Range of elements accessible using slicing. eg. numarr[2:5]\n",
    " * Loops can be used to access elements. eg. for elem in numarr:\n",
    "\n",
    "#### Differences\n",
    " * Numpy arrays are *designed* for each element to have the same data type. They can be different but its not recommended you do so\n",
    " * The arrays offer a set of convenient functions eg. numarr.mean(), numarr.std()\n",
    " * Can be multi-dimensional: Similar to making a built-in list of lists.\n",
    " * Support for vector operations"
   ]
  },
  {
   "cell_type": "code",
   "execution_count": 4,
   "metadata": {
    "collapsed": true,
    "deletable": true,
    "editable": true
   },
   "outputs": [],
   "source": [
    "import pandas as pd\n",
    "import numpy as np"
   ]
  },
  {
   "cell_type": "code",
   "execution_count": 5,
   "metadata": {
    "collapsed": true,
    "deletable": true,
    "editable": true
   },
   "outputs": [],
   "source": [
    "# Change False to True for each block of code to see what it does\n",
    "\n",
    "employment = np.array([\n",
    "    55.70000076,  51.40000153,  50.5       ,  75.69999695,\n",
    "    58.40000153,  40.09999847,  61.5       ,  57.09999847,\n",
    "    60.90000153,  66.59999847,  60.40000153,  68.09999847,\n",
    "    66.90000153,  53.40000153,  48.59999847,  56.79999924,\n",
    "    71.59999847,  58.40000153,  70.40000153,  41.20000076\n",
    "])\n",
    "\n",
    "# Accessing elements\n",
    "if False:\n",
    "    print(countries[0])\n",
    "    print(countries[3])\n",
    "\n",
    "# Slicing\n",
    "if False:\n",
    "    print(countries[0:3])\n",
    "    print(countries[:3])\n",
    "    print(countries[17:])\n",
    "    print(countries[:])\n",
    "\n",
    "# Element types\n",
    "if False:\n",
    "    print(countries.dtype)\n",
    "    print(employment.dtype)\n",
    "    print(np.array([0, 1, 2, 3]).dtype)\n",
    "    print(np.array([1.0, 1.5, 2.0, 2.5]).dtype)\n",
    "    print(np.array([True, False, True]).dtype)\n",
    "    print(np.array(['AL', 'AK', 'AZ', 'AR', 'CA']).dtype)\n",
    "\n",
    "# Looping\n",
    "if False:\n",
    "    for emp in employment:\n",
    "        print('Examining employment {}'.format(emp))\n",
    "\n",
    "\n",
    "# Numpy functions\n",
    "if False:\n",
    "    print(employment.mean())\n",
    "    print(employment.std())\n",
    "    print(employment.max())\n",
    "    print(employment.sum())"
   ]
  },
  {
   "cell_type": "markdown",
   "metadata": {
    "deletable": true,
    "editable": true
   },
   "source": [
    "#### Exercise \n",
    "\n",
    "Try to find the maximum employment value in the list of employment values and the corresponding country that has that maximum employment value"
   ]
  },
  {
   "cell_type": "code",
   "execution_count": 6,
   "metadata": {
    "collapsed": false,
    "deletable": true,
    "editable": true
   },
   "outputs": [
    {
     "name": "stdout",
     "output_type": "stream",
     "text": [
      "Angola\n"
     ]
    }
   ],
   "source": [
    "# First 20 countries with employment data\n",
    "countries = np.array([\n",
    "    'Afghanistan', 'Albania', 'Algeria', 'Angola', 'Argentina',\n",
    "    'Armenia', 'Australia', 'Austria', 'Azerbaijan', 'Bahamas',\n",
    "    'Bahrain', 'Bangladesh', 'Barbados', 'Belarus', 'Belgium',\n",
    "    'Belize', 'Benin', 'Bhutan', 'Bolivia',\n",
    "    'Bosnia and Herzegovina'\n",
    "])\n",
    "\n",
    "# Employment data in 2007 for those 20 countries\n",
    "employment = np.array([\n",
    "    55.70000076,  51.40000153,  50.5       ,  75.69999695,\n",
    "    58.40000153,  40.09999847,  61.5       ,  57.09999847,\n",
    "    60.90000153,  66.59999847,  60.40000153,  68.09999847,\n",
    "    66.90000153,  53.40000153,  48.59999847,  56.79999924,\n",
    "    71.59999847,  58.40000153,  70.40000153,  41.20000076\n",
    "])\n",
    "\n",
    "\n",
    "def max_employment(countries, employment):\n",
    "    \"\"\"\n",
    "    Fill in this function to return the name of the country\n",
    "    with the highest employment in the given employment\n",
    "    data, and the employment in that country.\n",
    "    \"\"\"\n",
    "    max_country = countries[np.argmax(employment)]\n",
    "    max_value = employment.max()\n",
    "    \n",
    "    return max_country, max_value\n",
    "\n",
    "print(max_employment(countries, employment)[0])"
   ]
  },
  {
   "cell_type": "markdown",
   "metadata": {
    "deletable": true,
    "editable": true
   },
   "source": [
    "### Vector operations\n",
    "Numpy arrays come with support for various vector operations. This where the arrays are worked up as matrices in the linear algebra model.\n",
    "\n",
    " * Math operations: +, -, *, /\n",
    " * Logical operations: |, &, ~ (Not)\n",
    " * Comparison operations: >, <, ==, !="
   ]
  },
  {
   "cell_type": "code",
   "execution_count": 7,
   "metadata": {
    "collapsed": false,
    "deletable": true,
    "editable": true
   },
   "outputs": [
    {
     "name": "stdout",
     "output_type": "stream",
     "text": [
      "Python builtin lists\n",
      "[1, 2, 3, 4, 5, 6]\n",
      "\n",
      "Numpy Arrays\n",
      "[5 7 9]\n",
      "[ 4 10 18]\n",
      "[False False False]\n",
      "[ True False  True]\n"
     ]
    }
   ],
   "source": [
    "lista = [1, 2, 3]\n",
    "listb = [4, 5, 6]\n",
    "\n",
    "print(\"Python builtin lists\")\n",
    "print(lista + listb)\n",
    "\n",
    "a = np.array(lista)\n",
    "b = np.array(listb)\n",
    "\n",
    "print(\"\\nNumpy Arrays\")\n",
    "print(a + b)\n",
    "print(a * b)\n",
    "print(a > b)\n",
    "\n",
    "logica = np.array([True, False, True])\n",
    "logicb = np.array([False, False, False])\n",
    "\n",
    "print(logica | logicb)"
   ]
  },
  {
   "cell_type": "markdown",
   "metadata": {
    "deletable": true,
    "editable": true
   },
   "source": [
    "#### Exercise\n",
    "For the employment array provided above, calculate another array that lists out the deviation of each from the mean in multiples of standard deviations. So if a data set has a mean of 10 and a standard deviation of 2, then a value of 12 is 1 standard deviation away from the mean (12 - 10)/2"
   ]
  },
  {
   "cell_type": "code",
   "execution_count": 8,
   "metadata": {
    "collapsed": false,
    "deletable": true,
    "editable": true
   },
   "outputs": [
    {
     "name": "stdout",
     "output_type": "stream",
     "text": [
      "[-0.31965231 -0.780123   -0.87650077  1.82207181 -0.03051941 -1.99019768\n",
      "  0.30144772 -0.16973184  0.23719615  0.84758731  0.18365304  1.00821665\n",
      "  0.87971351 -0.56595055 -1.07996476 -0.20185762  1.38301845 -0.03051941\n",
      "  1.2545153  -1.87240259]\n"
     ]
    }
   ],
   "source": [
    "def standardize_data(employment):\n",
    "    \"\"\"\n",
    "    Standardize it to have each element in the array contain the multiple of standard deviations away\n",
    "    from the mean\n",
    "    :param employment: \n",
    "    :return: \n",
    "    \"\"\"\n",
    "    \n",
    "    # For each element, calculate its difference from the mean and divide by the standard deviation\n",
    "    # to determine how many std_devs away from the mean the value is.\n",
    "    return (employment - employment.mean()) / employment.std()\n",
    "\n",
    "std_emp = standardize_data(employment)\n",
    "print(std_emp)"
   ]
  },
  {
   "cell_type": "markdown",
   "metadata": {
    "deletable": true,
    "editable": true
   },
   "source": [
    "### In Place\n",
    "Note that certain operators in Numpy result in operations performed in place, rather than on copies or new values of the array.\n",
    "\n",
    "#### + vs +=\n",
    "Consider this snippet\n",
    "\n",
    "```python\n",
    "a = np.array([1, 2, 3, 4, 5])\n",
    "b = a\n",
    "a += 2\n",
    "print(b)\n",
    "```\n",
    "Prints out [3, 4, 5, 6, 7]\n",
    "\n",
    "Here the += operator modifies the existing array `in place`, i.e. it does not create a new array and shift a's reference to it. Instead, with both a and b pointing to the same array, the += modifies the array in place, which is why b also sees the updated values.\n",
    "\n",
    "This is different from how + works, which, as one would expect, creates a new array and shifts the pointer reference\n",
    "\n",
    "```python\n",
    "a = np.array([3, 6, 9])\n",
    "b = a\n",
    "a = a + 3\n",
    "print(b)\n",
    "print(a)\n",
    "```\n",
    "Prints out [3, 6, 9], since a now points to the new array thats created as a result of the vector + operation.\n",
    "\n",
    "#### Slicing\n",
    "Slicing in numpy arrays works differently than on python lists. A slice of a numpy array creates a `view` into the same array based on the bounds of the slice. Thus modifications to the view (or slice) will result in modifications to the original array\n",
    "\n",
    "```python\n",
    "a = np.array([1, 2, 3, 4, 5, 6, 7, 8, 9])\n",
    "b = a[:3]\n",
    "b[0] = 300\n",
    "print(a)\n",
    "```\n",
    "Prints out [300, 2, 3, 4, 5, 6, 7, 8, 9]"
   ]
  },
  {
   "cell_type": "markdown",
   "metadata": {
    "deletable": true,
    "editable": true
   },
   "source": [
    "### Index Arrays\n",
    "Numpy Arrays can be used as indexes into other Numpy arrays to return a filtered list of elements. You would start with a numpy array, and then combine it with an array of booleans which would just return the elements from the first array for which the booleans were true\n",
    "\n",
    "```python\n",
    "a = np.array([1, 2, 3])\n",
    "b = np.array([True, False, True])\n",
    "\n",
    "print(a[b])\n",
    "```\n",
    "Prints out [1, 3]\n",
    "\n",
    "This could be further concised down and used as a filter. eg. To print out the elements of a that are greater than 2, you would use index arrays like so \n",
    "\n",
    "```python\n",
    "print(a[a > 2])\n",
    "```\n",
    "Prints out [3]. \n",
    "\n",
    "Here (a > 2) creates an index array of booleans `[False, False, True]`, which when used as an index into a, will return just the elements of a for which the index is True\n",
    "\n"
   ]
  },
  {
   "cell_type": "code",
   "execution_count": 9,
   "metadata": {
    "collapsed": false,
    "deletable": true,
    "editable": true
   },
   "outputs": [
    {
     "name": "stdout",
     "output_type": "stream",
     "text": [
      "[False  True False  True False]\n",
      "[2 4]\n"
     ]
    }
   ],
   "source": [
    "# Using index arrays\n",
    "if False:\n",
    "    a = np.array([1, 2, 3, 4])\n",
    "    b = np.array([True, True, False, False])\n",
    "    \n",
    "    print(a[b])\n",
    "    print(a[np.array([True, False, True, False])])\n",
    "    \n",
    "# Creating the index array using vectorized operations\n",
    "if False:\n",
    "    a = np.array([1, 2, 3, 2, 1])\n",
    "    b = (a >= 2)\n",
    "\n",
    "    print(b)\n",
    "    print(a[b])\n",
    "    print(a[a >= 2])\n",
    "    \n",
    "# Creating the index array using vectorized operations on another array\n",
    "if True:\n",
    "    a = np.array([1, 2, 3, 4, 5])\n",
    "    b = np.array([1, 2, 3, 2, 1])\n",
    "    \n",
    "    print(b == 2)\n",
    "    print(a[b == 2])"
   ]
  },
  {
   "cell_type": "markdown",
   "metadata": {
    "deletable": true,
    "editable": true
   },
   "source": [
    "#### Exercise\n",
    "\n",
    "For the standardised employment array printed above, print out the value for a given country. \n",
    "\n",
    "To do this you should create an index from the countries array for the country that you need and index that into the std_emp array. You can assume for this exercise that the country and employment arrays are the same length with corresponding array indexes."
   ]
  },
  {
   "cell_type": "code",
   "execution_count": 10,
   "metadata": {
    "collapsed": false,
    "deletable": true,
    "editable": true
   },
   "outputs": [
    {
     "name": "stdout",
     "output_type": "stream",
     "text": [
      "[ 1.82207181]\n",
      "[False False False  True False False False False False False False False\n",
      " False False False False False False False False]\n"
     ]
    }
   ],
   "source": [
    "country = \"Angola\"\n",
    "print(std_emp[countries == country])\n",
    "print(countries == country)"
   ]
  },
  {
   "cell_type": "markdown",
   "metadata": {
    "deletable": true,
    "editable": true
   },
   "source": [
    "## Pandas Series\n",
    "\n",
    "A Series is a data structure from the Pandas data library that is used for one-dimensional data. It supports for all operations found on numpy arrays (indexes access, looping, vector operations, etc.) but also provides added functionality. \n",
    "\n",
    "Consider the following exercise.\n",
    "\n",
    "### Exercise\n",
    "Given two data-sets, write a function that measures the direction of each of the element values with respect to their means. The function should return two numbers.\n",
    " 1. The number of times when an element in an array is above its mean and the element at the same index at the other data set is also above its mean. The same for when they are both below their means. This number records the number of times that the data set elements in the two arrays move in the same direction.\n",
    " 2. The number of times when an the elements of the data set move in opposite directions.So if an element in one array is above its mean and the corresponding element in the other array is below its mean or vice versa."
   ]
  },
  {
   "cell_type": "code",
   "execution_count": 11,
   "metadata": {
    "collapsed": false,
    "deletable": true,
    "editable": true
   },
   "outputs": [
    {
     "data": {
      "text/plain": [
       "(17, 3)"
      ]
     },
     "execution_count": 10,
     "metadata": {},
     "output_type": "execute_result"
    }
   ],
   "source": [
    "life_expectancy_values = [74.7, 75., 83.4, 57.6, 74.6, 75.4, 72.3, 81.5, 80.2,\n",
    "                          70.3, 72.1, 76.4, 68.1, 75.2, 69.8, 79.4, 70.8, 62.7,\n",
    "                          67.3, 70.6]\n",
    "\n",
    "gdp_values = [1681.61390973, 2155.48523109, 21495.80508273, 562.98768478,\n",
    "              13495.1274663, 9388.68852258, 1424.19056199, 24765.54890176,\n",
    "              27036.48733192, 1945.63754911, 21721.61840978, 13373.21993972,\n",
    "              483.97086804, 9783.98417323, 2253.46411147, 25034.66692293,\n",
    "              3680.91642923, 366.04496652, 1175.92638695, 1132.21387981]\n",
    "\n",
    "# Life expectancy and gdp data in 2007 for 20 countries\n",
    "life_expectancy = pd.Series(life_expectancy_values)\n",
    "gdp = pd.Series(gdp_values)\n",
    "\n",
    "\n",
    "def variable_correlation(variable1, variable2):\n",
    "    \"\"\"\n",
    "    Determine data set correlation\n",
    "    \"\"\"\n",
    "    same_direction = (variable1 > variable1.mean()) & (variable2 > variable2.mean()) | \\\n",
    "                     (variable1 < variable1.mean()) & (variable2 < variable2.mean())\n",
    "\n",
    "    # Same as same_direction[same_direction == True]\n",
    "    num_same_direction = same_direction[same_direction].sum()\n",
    "    num_different_direction = len(variable2) - num_same_direction\n",
    "\n",
    "    return num_same_direction, num_different_direction\n",
    "\n",
    "\n",
    "variable_correlation(life_expectancy, gdp)"
   ]
  },
  {
   "cell_type": "markdown",
   "metadata": {
    "deletable": true,
    "editable": true
   },
   "source": [
    "We see in the output that in most cases the data-set elements are either both above or below their means, indicating that they are `positively correlated`. If we had a case where when one element went above its mean and the other corresponding element went below its mean that would indicated `negative correlation`, indicating the data-sets move opposite to each other."
   ]
  },
  {
   "cell_type": "markdown",
   "metadata": {
    "deletable": true,
    "editable": true
   },
   "source": [
    "### Pandas Series Indexes\n",
    "\n",
    "It is useful to think of Pandas Series a cross between a Dictionary and a List. In a Series, as in Numpy Array, elements can be accessed by their index like so `series[0]`. However in a Series, you can go further. Data in a Series can be accessed in the following ways\n",
    "\n",
    "* Integer Index eg. `series[0]` or series.iloc[0]\n",
    "* Associative access using an Index Array eg. `stock_returns[\"IBM\"]` or `stock_returns.loc[\"IBM\"]`\n",
    " * A Series can have an associated Index Array, and you can use values from this Index array to lookup values in the Series regardless of their actual location. Consider the following example"
   ]
  },
  {
   "cell_type": "code",
   "execution_count": 11,
   "metadata": {
    "collapsed": false,
    "deletable": true,
    "editable": true
   },
   "outputs": [
    {
     "name": "stdout",
     "output_type": "stream",
     "text": [
      "0.05\n",
      "0.05\n",
      "0.1\n",
      "0.1\n"
     ]
    }
   ],
   "source": [
    "stock_returns = pd.Series([0.05, 0.10, 0.07, -0.10, 0.09], index=['IBM', 'GOOG', 'AMZN', 'GE', 'GM'])\n",
    "\n",
    "# Numeric indexed access\n",
    "print(stock_returns[0])\n",
    "print(stock_returns.iloc[0])\n",
    "\n",
    "# Associative index access\n",
    "print(stock_returns[\"GOOG\"])\n",
    "print(stock_returns.loc['GOOG'])"
   ]
  }
 ],
 "metadata": {
  "kernelspec": {
   "display_name": "Python 3",
   "language": "python",
   "name": "python3"
  },
  "language_info": {
   "codemirror_mode": {
    "name": "ipython",
    "version": 3
   },
   "file_extension": ".py",
   "mimetype": "text/x-python",
   "name": "python",
   "nbconvert_exporter": "python",
   "pygments_lexer": "ipython3",
   "version": "3.5.1"
  }
 },
 "nbformat": 4,
 "nbformat_minor": 0
}
